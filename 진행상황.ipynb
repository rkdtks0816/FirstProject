{
 "cells": [
  {
   "cell_type": "code",
   "execution_count": null,
   "id": "1cbd2321",
   "metadata": {},
   "outputs": [],
   "source": [
    "프로젝트 할 것\n",
    "\n",
    "    1. 단기 예측\n",
    "        입력 : 기상청, 미세먼지, 일사량, 일조량, 3~5일 정도 \n",
    "        계산 : 머신러닝\n",
    "        결과 : 발전량 그래프(시간별), 예상 수익\n",
    "\n",
    "    2. 중기 예측\n",
    "        입력 : accuwearther, 최고, 최저, 강수량, 바람, 구름량 91일 \n",
    "        계산 : 머신러닝\n",
    "        결과 : 발전량 그래프(일별), 예상 수익\n",
    "\n",
    "    3. 장기 예측\n",
    "        입력 : 과거데이터 기반, 통계\n",
    "        계산 : 통계적으로\n",
    "        결과 : 발전량 그래프(월별), 예상 수익\n",
    "\n",
    "    4. 실시간 날씨 \n",
    "\n",
    "\n",
    "    5. 이상 경보\n",
    "        바람, 번개, 강수량, 예상과 실제 비교\n",
    "\n",
    "현재까지 한것\n",
    "    1. 중기 예측\n",
    "        1) 입력값 받아오기\n",
    "        2) 머신러닝\n",
    "        3) 발전량 그래프로\n",
    "    2. 장기 예측\n",
    "        강윤정 학생 진행중\n",
    "    4. 실시간 날씨\n",
    "        김민수 학생 진행중\n",
    "    5. 이상 경보\n",
    "        경보기준 설정을 위한 데이터 수집중\n",
    "        \n",
    "해야할 것\n",
    "    1. smp 예측\n",
    "        과거 전기 공급량, 전기 생산량, 물가에 따라서 바뀔것으로 예상\n",
    "        3가지 칼럼으로 머신러닝 가능한지 조사\n",
    "    2. rec 예측\n",
    "        변수 더 조사 해봐야함\n",
    "    3. html 디자인\n",
    "    4. 중기 예측 코드 보고 단기 예측, 장기 예측 코드 짜기\n",
    "    5. 중기 발전량 그래프 페이지에서 모니터링 페이지 처럼 월바꾸면 그래프도 바꾸게 하고 싶음"
   ]
  }
 ],
 "metadata": {
  "kernelspec": {
   "display_name": "Python 3 (ipykernel)",
   "language": "python",
   "name": "python3"
  },
  "language_info": {
   "codemirror_mode": {
    "name": "ipython",
    "version": 3
   },
   "file_extension": ".py",
   "mimetype": "text/x-python",
   "name": "python",
   "nbconvert_exporter": "python",
   "pygments_lexer": "ipython3",
   "version": "3.9.12"
  }
 },
 "nbformat": 4,
 "nbformat_minor": 5
}
