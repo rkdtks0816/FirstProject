{
 "cells": [
  {
   "cell_type": "markdown",
   "id": "60d2842c",
   "metadata": {},
   "source": [
    "## 1. 문제 제기\n",
    "* 주제 : 태양광 발전량 예측을 통해 휴전점검일과 관리 필요성 알림"
   ]
  },
  {
   "cell_type": "markdown",
   "id": "9199afff",
   "metadata": {},
   "source": [
    "## 2. 데이터 구하기\n",
    "* 1. 기상자료개방포털 : https://data.kma.go.kr/cmmn/main.do\n",
    "* 2. DNE Solar : http://www.qs2200.co.kr/SrMain/SM020.aspx"
   ]
  },
  {
   "cell_type": "markdown",
   "id": "cc166d8a",
   "metadata": {},
   "source": [
    "## 3. 타겟변수 설정\n",
    "* 타겟변수명 : 발전량\n",
    "* 타겟변수값 : 실수"
   ]
  },
  {
   "cell_type": "markdown",
   "id": "9c9f69e2",
   "metadata": {},
   "source": [
    "## 4. 데이터 처리\n",
    "* 4-1 데이터 불러오기\n",
    "* 4-2 ID 변수 설정\n",
    "* 4-3 타겟변수 생성\n",
    "* 4-4 기타 변수 데이터 처리\n",
    "* 결과 파일 "
   ]
  },
  {
   "cell_type": "markdown",
   "id": "fc222366",
   "metadata": {},
   "source": [
    "### 4-1. 데이터 불러오기"
   ]
  },
  {
   "cell_type": "code",
   "execution_count": 1,
   "id": "92168f18",
   "metadata": {},
   "outputs": [
    {
     "data": {
      "text/html": [
       "<div>\n",
       "<style scoped>\n",
       "    .dataframe tbody tr th:only-of-type {\n",
       "        vertical-align: middle;\n",
       "    }\n",
       "\n",
       "    .dataframe tbody tr th {\n",
       "        vertical-align: top;\n",
       "    }\n",
       "\n",
       "    .dataframe thead th {\n",
       "        text-align: right;\n",
       "    }\n",
       "</style>\n",
       "<table border=\"1\" class=\"dataframe\">\n",
       "  <thead>\n",
       "    <tr style=\"text-align: right;\">\n",
       "      <th></th>\n",
       "      <th>일자</th>\n",
       "      <th>지점명</th>\n",
       "      <th>최저기온(°C)</th>\n",
       "      <th>최고기온(°C)</th>\n",
       "      <th>일강수량(mm)</th>\n",
       "      <th>평균 풍속(m/s)</th>\n",
       "      <th>평균 전운량(1/10)</th>\n",
       "      <th>발전량</th>\n",
       "    </tr>\n",
       "  </thead>\n",
       "  <tbody>\n",
       "    <tr>\n",
       "      <th>0</th>\n",
       "      <td>2019-09-01</td>\n",
       "      <td>보성군</td>\n",
       "      <td>19.0</td>\n",
       "      <td>25.4</td>\n",
       "      <td>4.0</td>\n",
       "      <td>1.2</td>\n",
       "      <td>9.9</td>\n",
       "      <td>128.0</td>\n",
       "    </tr>\n",
       "    <tr>\n",
       "      <th>1</th>\n",
       "      <td>2019-09-02</td>\n",
       "      <td>보성군</td>\n",
       "      <td>19.3</td>\n",
       "      <td>23.0</td>\n",
       "      <td>39.5</td>\n",
       "      <td>1.1</td>\n",
       "      <td>8.8</td>\n",
       "      <td>76.3</td>\n",
       "    </tr>\n",
       "    <tr>\n",
       "      <th>2</th>\n",
       "      <td>2019-09-03</td>\n",
       "      <td>보성군</td>\n",
       "      <td>21.3</td>\n",
       "      <td>25.2</td>\n",
       "      <td>19.0</td>\n",
       "      <td>1.6</td>\n",
       "      <td>10.0</td>\n",
       "      <td>147.1</td>\n",
       "    </tr>\n",
       "  </tbody>\n",
       "</table>\n",
       "</div>"
      ],
      "text/plain": [
       "           일자  지점명  최저기온(°C)  최고기온(°C)  일강수량(mm)  평균 풍속(m/s)  평균 전운량(1/10)  \\\n",
       "0  2019-09-01  보성군      19.0      25.4       4.0         1.2           9.9   \n",
       "1  2019-09-02  보성군      19.3      23.0      39.5         1.1           8.8   \n",
       "2  2019-09-03  보성군      21.3      25.2      19.0         1.6          10.0   \n",
       "\n",
       "     발전량  \n",
       "0  128.0  \n",
       "1   76.3  \n",
       "2  147.1  "
      ]
     },
     "execution_count": 1,
     "metadata": {},
     "output_type": "execute_result"
    }
   ],
   "source": [
    "import pandas as pd\n",
    "import numpy as np\n",
    "\n",
    "df = pd.read_csv('태양광_데이터.csv')\n",
    "\n",
    "df.head(3)"
   ]
  },
  {
   "cell_type": "code",
   "execution_count": 3,
   "id": "ada3d08a",
   "metadata": {},
   "outputs": [
    {
     "data": {
      "text/plain": [
       "(943, 8)"
      ]
     },
     "execution_count": 3,
     "metadata": {},
     "output_type": "execute_result"
    }
   ],
   "source": [
    "# 데이터프레임 df행과 열 차원 확인\n",
    "df.shape"
   ]
  },
  {
   "cell_type": "code",
   "execution_count": 4,
   "id": "f76b1f2e",
   "metadata": {},
   "outputs": [
    {
     "name": "stdout",
     "output_type": "stream",
     "text": [
      "<class 'pandas.core.frame.DataFrame'>\n",
      "RangeIndex: 943 entries, 0 to 942\n",
      "Data columns (total 8 columns):\n",
      " #   Column        Non-Null Count  Dtype  \n",
      "---  ------        --------------  -----  \n",
      " 0   일자            943 non-null    object \n",
      " 1   지점명           943 non-null    object \n",
      " 2   최저기온(°C)      943 non-null    float64\n",
      " 3   최고기온(°C)      943 non-null    float64\n",
      " 4   일강수량(mm)      302 non-null    float64\n",
      " 5   평균 풍속(m/s)    942 non-null    float64\n",
      " 6   평균 전운량(1/10)  941 non-null    float64\n",
      " 7   발전량           943 non-null    float64\n",
      "dtypes: float64(6), object(2)\n",
      "memory usage: 59.1+ KB\n"
     ]
    }
   ],
   "source": [
    "# 데이터프레임 df 정보(info) 확인\n",
    "df.info()"
   ]
  },
  {
   "cell_type": "markdown",
   "id": "004f44ed",
   "metadata": {},
   "source": [
    "### 4-2 ID 변수 설정\n",
    "* ID 변수 데이터 타입\n",
    "* 결측값\n",
    "* 중복 여부\n",
    "* 숫자가 아닌 값"
   ]
  },
  {
   "cell_type": "code",
   "execution_count": 5,
   "id": "a7fef6b4",
   "metadata": {},
   "outputs": [
    {
     "data": {
      "text/plain": [
       "dtype('float64')"
      ]
     },
     "execution_count": 5,
     "metadata": {},
     "output_type": "execute_result"
    }
   ],
   "source": [
    "# ID 변수인 id  데이터 타입 확인\n",
    "df['일강수량(mm)'].dtype"
   ]
  },
  {
   "cell_type": "code",
   "execution_count": 6,
   "id": "cd734af2",
   "metadata": {},
   "outputs": [
    {
     "data": {
      "text/plain": [
       "641"
      ]
     },
     "execution_count": 6,
     "metadata": {},
     "output_type": "execute_result"
    }
   ],
   "source": [
    "# ID 변수인 id 값의 결측값 확인\n",
    "df['일강수량(mm)'].isnull().sum()"
   ]
  },
  {
   "cell_type": "code",
   "execution_count": 7,
   "id": "5f37640a",
   "metadata": {},
   "outputs": [
    {
     "data": {
      "text/plain": [
       "145"
      ]
     },
     "execution_count": 7,
     "metadata": {},
     "output_type": "execute_result"
    }
   ],
   "source": [
    "# ID 변수인 id 값의 중복 여부를 체크하기 위해 유일한(unique) 값의 개수 체크\n",
    "n = len(pd.unique(df['일강수량(mm)']))  # pd.unique는 유일한 변수값을 출력하고 len은 값의 개수를 카운트 한다.\n",
    "n"
   ]
  },
  {
   "cell_type": "code",
   "execution_count": 8,
   "id": "988695ef",
   "metadata": {},
   "outputs": [
    {
     "data": {
      "text/plain": [
       "641"
      ]
     },
     "execution_count": 8,
     "metadata": {},
     "output_type": "execute_result"
    }
   ],
   "source": [
    "#  숫자형태가 아닌 SERIALNO의 갯수를 세튼 파이썬 코드\n",
    "mask = pd.to_numeric(df['일강수량(mm)'], errors='coerce').isna()\n",
    "a=mask.sum()\n",
    "a"
   ]
  },
  {
   "cell_type": "markdown",
   "id": "cf28c399",
   "metadata": {},
   "source": [
    "### 4-3. 타겟 변수 생성"
   ]
  },
  {
   "cell_type": "code",
   "execution_count": 9,
   "id": "f9df3cda",
   "metadata": {},
   "outputs": [
    {
     "data": {
      "text/plain": [
       "dtype('float64')"
      ]
     },
     "execution_count": 9,
     "metadata": {},
     "output_type": "execute_result"
    }
   ],
   "source": [
    "# 타켓변수 데이터 타입 확인\n",
    "df['발전량'].dtype"
   ]
  },
  {
   "cell_type": "code",
   "execution_count": 10,
   "id": "e470bd53",
   "metadata": {},
   "outputs": [
    {
     "data": {
      "text/plain": [
       "0"
      ]
     },
     "execution_count": 10,
     "metadata": {},
     "output_type": "execute_result"
    }
   ],
   "source": [
    "# 타켓변수 결측값 확인.\n",
    "df['발전량'].isnull().sum()"
   ]
  },
  {
   "cell_type": "code",
   "execution_count": 11,
   "id": "75d93b4b",
   "metadata": {},
   "outputs": [
    {
     "data": {
      "text/plain": [
       "0.0      6\n",
       "376.6    3\n",
       "528.8    3\n",
       "341.6    3\n",
       "437.2    3\n",
       "        ..\n",
       "349.3    1\n",
       "473.9    1\n",
       "248.0    1\n",
       "82.7     1\n",
       "316.9    1\n",
       "Name: 발전량, Length: 864, dtype: int64"
      ]
     },
     "execution_count": 11,
     "metadata": {},
     "output_type": "execute_result"
    }
   ],
   "source": [
    "# 타켓변수 클래스(0, 1값) 갯수 확인\n",
    "df['발전량'].value_counts(dropna=False)"
   ]
  },
  {
   "cell_type": "code",
   "execution_count": 12,
   "id": "2b4b7b5b",
   "metadata": {},
   "outputs": [
    {
     "data": {
      "text/plain": [
       "0.0      0.006363\n",
       "376.6    0.003181\n",
       "528.8    0.003181\n",
       "341.6    0.003181\n",
       "437.2    0.003181\n",
       "           ...   \n",
       "349.3    0.001060\n",
       "473.9    0.001060\n",
       "248.0    0.001060\n",
       "82.7     0.001060\n",
       "316.9    0.001060\n",
       "Name: 발전량, Length: 864, dtype: float64"
      ]
     },
     "execution_count": 12,
     "metadata": {},
     "output_type": "execute_result"
    }
   ],
   "source": [
    "df['발전량'].value_counts(dropna=False, normalize=True)"
   ]
  },
  {
   "cell_type": "markdown",
   "id": "b96d2617",
   "metadata": {},
   "source": [
    "## 6. 머신러닝 모델 실행\n",
    "* 머신러닝 모델 수립\n",
    "* 데이터 추가 처리(문자형 데이터)\n",
    "* 데이터 분할 및 대체\n",
    "* 결과 파일 저장"
   ]
  },
  {
   "cell_type": "markdown",
   "id": "e39208c0",
   "metadata": {},
   "source": [
    "### 6-2. 데이터 추가 처리"
   ]
  },
  {
   "cell_type": "code",
   "execution_count": 2,
   "id": "0683cd46",
   "metadata": {},
   "outputs": [
    {
     "data": {
      "text/plain": [
       "(943, 8)"
      ]
     },
     "execution_count": 2,
     "metadata": {},
     "output_type": "execute_result"
    }
   ],
   "source": [
    "import pandas as pd\n",
    "import numpy as np\n",
    "\n",
    "df = pd.read_csv('태양광_데이터.csv')\n",
    "df.shape"
   ]
  },
  {
   "cell_type": "code",
   "execution_count": 3,
   "id": "6318da92",
   "metadata": {},
   "outputs": [
    {
     "name": "stdout",
     "output_type": "stream",
     "text": [
      "<class 'pandas.core.frame.DataFrame'>\n",
      "RangeIndex: 943 entries, 0 to 942\n",
      "Data columns (total 8 columns):\n",
      " #   Column        Non-Null Count  Dtype  \n",
      "---  ------        --------------  -----  \n",
      " 0   일자            943 non-null    object \n",
      " 1   지점명           943 non-null    object \n",
      " 2   최저기온(°C)      943 non-null    float64\n",
      " 3   최고기온(°C)      943 non-null    float64\n",
      " 4   일강수량(mm)      302 non-null    float64\n",
      " 5   평균 풍속(m/s)    942 non-null    float64\n",
      " 6   평균 전운량(1/10)  941 non-null    float64\n",
      " 7   발전량           943 non-null    float64\n",
      "dtypes: float64(6), object(2)\n",
      "memory usage: 59.1+ KB\n"
     ]
    }
   ],
   "source": [
    "# 데이터프레임 변수 데이터타입 확인.\n",
    "df.info()"
   ]
  },
  {
   "cell_type": "code",
   "execution_count": 4,
   "id": "70f83f23",
   "metadata": {},
   "outputs": [
    {
     "data": {
      "text/plain": [
       "Index(['일자', '지점명', '최저기온(°C)', '최고기온(°C)', '일강수량(mm)', '평균 풍속(m/s)',\n",
       "       '평균 전운량(1/10)', '발전량'],\n",
       "      dtype='object')"
      ]
     },
     "execution_count": 4,
     "metadata": {},
     "output_type": "execute_result"
    }
   ],
   "source": [
    "# 컬럼명(변수명) 구하기 \n",
    "df.columns"
   ]
  },
  {
   "cell_type": "code",
   "execution_count": 5,
   "id": "04e829fa",
   "metadata": {
    "scrolled": true
   },
   "outputs": [
    {
     "data": {
      "text/plain": [
       "['일자',\n",
       " '지점명',\n",
       " '최저기온(°C)',\n",
       " '최고기온(°C)',\n",
       " '일강수량(mm)',\n",
       " '평균 풍속(m/s)',\n",
       " '평균 전운량(1/10)',\n",
       " '발전량']"
      ]
     },
     "execution_count": 5,
     "metadata": {},
     "output_type": "execute_result"
    }
   ],
   "source": [
    "# 컬럼명(변수명) 구하기 \n",
    "list(df.columns)"
   ]
  },
  {
   "cell_type": "markdown",
   "id": "29559719",
   "metadata": {},
   "source": [
    "## 6.3 데이터 분할 및 대체"
   ]
  },
  {
   "cell_type": "code",
   "execution_count": 8,
   "id": "61aaa05d",
   "metadata": {},
   "outputs": [
    {
     "name": "stdout",
     "output_type": "stream",
     "text": [
      "<class 'pandas.core.frame.DataFrame'>\n",
      "RangeIndex: 943 entries, 0 to 942\n",
      "Data columns (total 5 columns):\n",
      " #   Column        Non-Null Count  Dtype  \n",
      "---  ------        --------------  -----  \n",
      " 0   최저기온(°C)      943 non-null    float64\n",
      " 1   최고기온(°C)      943 non-null    float64\n",
      " 2   일강수량(mm)      943 non-null    float64\n",
      " 3   평균 풍속(m/s)    943 non-null    float64\n",
      " 4   평균 전운량(1/10)  943 non-null    float64\n",
      "dtypes: float64(5)\n",
      "memory usage: 37.0 KB\n"
     ]
    },
    {
     "data": {
      "text/plain": [
       "(None,\n",
       " 0      1.292929\n",
       " 1      0.770707\n",
       " 2      1.485859\n",
       " 3      0.798990\n",
       " 4      1.966667\n",
       "          ...   \n",
       " 938    5.275758\n",
       " 939    4.516162\n",
       " 940    5.872727\n",
       " 941    3.627273\n",
       " 942    3.201010\n",
       " Name: 발전량, Length: 943, dtype: float64)"
      ]
     },
     "execution_count": 8,
     "metadata": {},
     "output_type": "execute_result"
    }
   ],
   "source": [
    "data = df[[\n",
    "    '최저기온(°C)',\n",
    "    '최고기온(°C)',\n",
    "    '일강수량(mm)',\n",
    "    '평균 풍속(m/s)',\n",
    "    '평균 전운량(1/10)'\n",
    "]] # 타켓변수를 제외한 변수만 data에 저장\n",
    "\n",
    "target = df['발전량'].div(99)              # 타켓변수만 target에 저장.\n",
    "data = data.fillna(0)\n",
    "data.info(), target"
   ]
  },
  {
   "cell_type": "code",
   "execution_count": 18,
   "id": "6da4932a",
   "metadata": {},
   "outputs": [
    {
     "data": {
      "text/plain": [
       "(943,)"
      ]
     },
     "execution_count": 18,
     "metadata": {},
     "output_type": "execute_result"
    }
   ],
   "source": [
    "target.shape"
   ]
  },
  {
   "cell_type": "code",
   "execution_count": 19,
   "id": "5637f882",
   "metadata": {},
   "outputs": [
    {
     "data": {
      "text/plain": [
       "0.0      6\n",
       "376.6    3\n",
       "528.8    3\n",
       "341.6    3\n",
       "437.2    3\n",
       "        ..\n",
       "349.3    1\n",
       "473.9    1\n",
       "248.0    1\n",
       "82.7     1\n",
       "316.9    1\n",
       "Name: 발전량, Length: 864, dtype: int64"
      ]
     },
     "execution_count": 19,
     "metadata": {},
     "output_type": "execute_result"
    }
   ],
   "source": [
    "df['발전량'].value_counts(dropna=False)"
   ]
  },
  {
   "cell_type": "code",
   "execution_count": 20,
   "id": "c71ce627",
   "metadata": {},
   "outputs": [
    {
     "name": "stdout",
     "output_type": "stream",
     "text": [
      "X_train shape:  (754, 5)\n",
      "X_test shape:  (189, 5)\n"
     ]
    }
   ],
   "source": [
    "from sklearn.model_selection import train_test_split\n",
    "X_train, X_test, y_train, y_test = train_test_split(\n",
    "data, target, test_size = 0.2, random_state=42)\n",
    "\n",
    "print(\"X_train shape: \", X_train.shape)\n",
    "print(\"X_test shape: \", X_test.shape)"
   ]
  },
  {
   "cell_type": "code",
   "execution_count": 21,
   "id": "290242fc",
   "metadata": {},
   "outputs": [
    {
     "name": "stdout",
     "output_type": "stream",
     "text": [
      "y_train shape:  (754,)\n",
      "y_test shape:  (189,)\n"
     ]
    }
   ],
   "source": [
    "print(\"y_train shape: \", y_train.shape)\n",
    "print(\"y_test shape: \", y_test.shape)"
   ]
  },
  {
   "cell_type": "code",
   "execution_count": 22,
   "id": "2436d016",
   "metadata": {},
   "outputs": [
    {
     "data": {
      "text/plain": [
       "0.0      0.005305\n",
       "437.2    0.003979\n",
       "528.8    0.003979\n",
       "376.6    0.003979\n",
       "431.6    0.003979\n",
       "           ...   \n",
       "79.1     0.001326\n",
       "214.4    0.001326\n",
       "418.6    0.001326\n",
       "61.8     0.001326\n",
       "433.0    0.001326\n",
       "Name: 발전량, Length: 702, dtype: float64"
      ]
     },
     "execution_count": 22,
     "metadata": {},
     "output_type": "execute_result"
    }
   ],
   "source": [
    "y_train.value_counts(normalize=True)"
   ]
  },
  {
   "cell_type": "markdown",
   "id": "56e07c7b",
   "metadata": {},
   "source": [
    "### ML 모델 구현해 주세요"
   ]
  },
  {
   "cell_type": "code",
   "execution_count": 23,
   "id": "cf9d15f0",
   "metadata": {},
   "outputs": [
    {
     "name": "stdout",
     "output_type": "stream",
     "text": [
      "Accuracy on training set:1.00000\n",
      "Accuracy on test set:0.36522\n"
     ]
    }
   ],
   "source": [
    "from sklearn.tree import DecisionTreeRegressor\n",
    "tree = DecisionTreeRegressor(random_state=0)\n",
    "tree.fit(X_train, y_train)\n",
    "\n",
    "print(\"Accuracy on training set:{:.5f}\".format(tree.score(X_train, y_train)))\n",
    "print(\"Accuracy on test set:{:.5f}\".format(tree.score(X_test, y_test)))"
   ]
  },
  {
   "cell_type": "code",
   "execution_count": 24,
   "id": "fadd99b5",
   "metadata": {},
   "outputs": [
    {
     "name": "stdout",
     "output_type": "stream",
     "text": [
      "Accuracy on training set:0.76699\n",
      "Accuracy on test set:0.69701\n",
      "최적의 하이퍼 파라미터 : {'max_depth': 6, 'min_samples_leaf': 4, 'min_samples_split': 8, 'n_estimators': 100}\n",
      "최적의 예측 정확도 : 0.6157721290256067\n"
     ]
    }
   ],
   "source": [
    "from sklearn.ensemble import RandomForestRegressor\n",
    "from sklearn.model_selection import GridSearchCV\n",
    "\n",
    "params = {\n",
    "    'n_estimators':[100],\n",
    "    'max_depth':[2 ,4 ,6, 8, 10, 12],\n",
    "    'min_samples_leaf':[2 ,4, 6, 8, 12, 18],\n",
    "    'min_samples_split':[2 ,4, 6, 8, 16, 20]\n",
    "}\n",
    "\n",
    "stroke_model_RFR = RandomForestRegressor(n_jobs=-1)\n",
    "\n",
    "stroke_model_RFR_grid_cv = GridSearchCV(stroke_model_RFR, param_grid = params, cv=2, n_jobs=-1)\n",
    "\n",
    "stroke_model_RFR_grid_cv.fit(X_train, y_train)\n",
    "\n",
    "print(\"Accuracy on training set:{:.5f}\".format(stroke_model_RFR_grid_cv.score(X_train, y_train)))\n",
    "print(\"Accuracy on test set:{:.5f}\".format(stroke_model_RFR_grid_cv.score(X_test, y_test)))\n",
    "print('최적의 하이퍼 파라미터 :',stroke_model_RFR_grid_cv.best_params_)\n",
    "print('최적의 예측 정확도 :',stroke_model_RFR_grid_cv.best_score_)"
   ]
  },
  {
   "cell_type": "code",
   "execution_count": 25,
   "id": "2d9a5608",
   "metadata": {},
   "outputs": [
    {
     "name": "stdout",
     "output_type": "stream",
     "text": [
      "Accuracy on training set:0.73688\n",
      "Accuracy on test set:0.68683\n",
      "최적의 하이퍼 파라미터 : {'max_depth': 2, 'min_samples_leaf': 18, 'min_samples_split': 2, 'n_estimators': 100}\n",
      "최적의 예측 정확도 : 0.640781094532175\n"
     ]
    }
   ],
   "source": [
    "from sklearn.ensemble import GradientBoostingRegressor\n",
    "from sklearn.model_selection import GridSearchCV\n",
    "\n",
    "params = {\n",
    "    'n_estimators':[100],\n",
    "    'max_depth':[2 ,4 ,6, 8, 10, 12],\n",
    "    'min_samples_leaf':[2 ,4, 6, 8, 12, 18],\n",
    "    'min_samples_split':[2 ,4, 6, 8, 16, 20]\n",
    "}\n",
    "\n",
    "stroke_model_Gradient = GradientBoostingRegressor()\n",
    "\n",
    "stroke_model_Gradient_grid_cv = GridSearchCV(stroke_model_Gradient, param_grid = params, cv=2, n_jobs=-1)\n",
    "\n",
    "stroke_model_Gradient_grid_cv.fit(X_train, y_train)\n",
    "\n",
    "print(\"Accuracy on training set:{:.5f}\".format(stroke_model_Gradient_grid_cv.score(X_train, y_train)))\n",
    "print(\"Accuracy on test set:{:.5f}\".format(stroke_model_Gradient_grid_cv.score(X_test, y_test)))\n",
    "print('최적의 하이퍼 파라미터 :',stroke_model_Gradient_grid_cv.best_params_)\n",
    "print('최적의 예측 정확도 :',stroke_model_Gradient_grid_cv.best_score_)"
   ]
  },
  {
   "cell_type": "code",
   "execution_count": 26,
   "id": "b654bd7e",
   "metadata": {},
   "outputs": [
    {
     "name": "stdout",
     "output_type": "stream",
     "text": [
      "[LightGBM] [Warning] min_data_in_leaf is set with min_child_samples=20, will be overridden by min_samples_leaf=18. Current value: min_data_in_leaf=18\n",
      "[LightGBM] [Warning] Unknown parameter: min_samples_split\n",
      "Accuracy on training set:0.73686\n",
      "Accuracy on test set:0.68399\n",
      "최적의 하이퍼 파라미터 : {'max_depth': 2, 'min_samples_leaf': 18, 'min_samples_split': 2, 'n_estimators': 100}\n",
      "최적의 예측 정확도 : 0.6389068850679018\n"
     ]
    }
   ],
   "source": [
    "from lightgbm import LGBMRegressor\n",
    "from sklearn.model_selection import GridSearchCV\n",
    "\n",
    "params = {\n",
    "    'n_estimators':[100],\n",
    "    'max_depth':[2 ,4 ,6, 8, 10, 12],\n",
    "    'min_samples_leaf':[2 ,4, 6, 8, 12, 18],\n",
    "    'min_samples_split':[2 ,4, 6, 8, 16, 20]\n",
    "}\n",
    "\n",
    "stroke_model_LGBM = LGBMRegressor()\n",
    "\n",
    "stroke_model_LGBM_grid_cv = GridSearchCV(stroke_model_LGBM, param_grid = params, cv=2, n_jobs=-1)\n",
    "\n",
    "stroke_model_LGBM_grid_cv.fit(X_train, y_train)                              \n",
    "                              \n",
    "print(\"Accuracy on training set:{:.5f}\".format(stroke_model_LGBM_grid_cv.score(X_train, y_train)))\n",
    "print(\"Accuracy on test set:{:.5f}\".format(stroke_model_LGBM_grid_cv.score(X_test, y_test)))\n",
    "print('최적의 하이퍼 파라미터 :',stroke_model_LGBM_grid_cv.best_params_)\n",
    "print('최적의 예측 정확도 :',stroke_model_LGBM_grid_cv.best_score_)"
   ]
  },
  {
   "cell_type": "code",
   "execution_count": null,
   "id": "02cf4d2f",
   "metadata": {},
   "outputs": [],
   "source": []
  }
 ],
 "metadata": {
  "kernelspec": {
   "display_name": "Python 3 (ipykernel)",
   "language": "python",
   "name": "python3"
  },
  "language_info": {
   "codemirror_mode": {
    "name": "ipython",
    "version": 3
   },
   "file_extension": ".py",
   "mimetype": "text/x-python",
   "name": "python",
   "nbconvert_exporter": "python",
   "pygments_lexer": "ipython3",
   "version": "3.9.12"
  }
 },
 "nbformat": 4,
 "nbformat_minor": 5
}
